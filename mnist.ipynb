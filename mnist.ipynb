{
 "cells": [
  {
   "cell_type": "code",
   "execution_count": 1,
   "metadata": {},
   "outputs": [
    {
     "name": "stdout",
     "output_type": "stream",
     "text": [
      "c:\\Users\\ishaa\\OneDrive\\Documents\\Ishaan\\AIML\\NN\\MNIST_784x16x16x10\n"
     ]
    }
   ],
   "source": [
    "import os\n",
    "print(os.getcwd())  # Shows where Python thinks you are"
   ]
  },
  {
   "cell_type": "code",
   "execution_count": 2,
   "metadata": {
    "_cell_guid": "b1076dfc-b9ad-4769-8c92-a6c4dae69d19",
    "_uuid": "8f2839f25d086af736a60e9eeb907d3b93b6e0e5",
    "execution": {
     "iopub.execute_input": "2025-05-31T20:52:01.901355Z",
     "iopub.status.busy": "2025-05-31T20:52:01.900888Z",
     "iopub.status.idle": "2025-05-31T20:52:01.907707Z",
     "shell.execute_reply": "2025-05-31T20:52:01.906435Z",
     "shell.execute_reply.started": "2025-05-31T20:52:01.901324Z"
    },
    "trusted": true
   },
   "outputs": [],
   "source": [
    "import numpy as np # linear algebra\n",
    "import pandas as pd # data processing, CSV file I/O (e.g. pd.read_csv)\n",
    "from matplotlib import pyplot as plt"
   ]
  },
  {
   "cell_type": "code",
   "execution_count": 3,
   "metadata": {
    "execution": {
     "iopub.execute_input": "2025-05-31T20:52:01.912463Z",
     "iopub.status.busy": "2025-05-31T20:52:01.912062Z",
     "iopub.status.idle": "2025-05-31T20:52:04.264076Z",
     "shell.execute_reply": "2025-05-31T20:52:04.262630Z",
     "shell.execute_reply.started": "2025-05-31T20:52:01.912435Z"
    },
    "trusted": true
   },
   "outputs": [],
   "source": [
    "data = pd.read_csv(r\"C:\\Users\\ishaa\\OneDrive\\Documents\\Ishaan\\AIML\\NN\\MNIST_784x10x10\\train.csv\\train.csv\")  # Note the 'r' prefix and backslashes"
   ]
  },
  {
   "cell_type": "code",
   "execution_count": 4,
   "metadata": {
    "execution": {
     "iopub.execute_input": "2025-05-31T20:52:04.266426Z",
     "iopub.status.busy": "2025-05-31T20:52:04.266063Z",
     "iopub.status.idle": "2025-05-31T20:52:05.541390Z",
     "shell.execute_reply": "2025-05-31T20:52:05.540567Z",
     "shell.execute_reply.started": "2025-05-31T20:52:04.266394Z"
    },
    "trusted": true
   },
   "outputs": [],
   "source": [
    "data = np.array(data)\n",
    "m, n = data.shape\n",
    "np.random.shuffle(data)\n",
    "\n",
    "data_dev = data[0:1000].T\n",
    "Y_dev = data_dev[0]\n",
    "X_dev = data_dev[1:n]\n",
    "X_dev = X_dev / 255.\n",
    "\n",
    "data_train = data[1000:m].T\n",
    "Y_train = data_train[0]\n",
    "X_train = data_train[1:n]\n",
    "X_train = X_train / 255.\n",
    "m_train = X_train.shape"
   ]
  },
  {
   "cell_type": "code",
   "execution_count": 5,
   "metadata": {
    "execution": {
     "iopub.execute_input": "2025-05-31T20:52:05.542775Z",
     "iopub.status.busy": "2025-05-31T20:52:05.542446Z",
     "iopub.status.idle": "2025-05-31T20:52:05.549603Z",
     "shell.execute_reply": "2025-05-31T20:52:05.548515Z",
     "shell.execute_reply.started": "2025-05-31T20:52:05.542746Z"
    },
    "trusted": true
   },
   "outputs": [
    {
     "data": {
      "text/plain": [
       "array([2, 1, 6, ..., 4, 0, 0], dtype=int64)"
      ]
     },
     "execution_count": 5,
     "metadata": {},
     "output_type": "execute_result"
    }
   ],
   "source": [
    "Y_train"
   ]
  },
  {
   "cell_type": "code",
   "execution_count": 6,
   "metadata": {
    "execution": {
     "iopub.execute_input": "2025-05-31T20:52:05.552138Z",
     "iopub.status.busy": "2025-05-31T20:52:05.551815Z",
     "iopub.status.idle": "2025-05-31T20:52:05.570951Z",
     "shell.execute_reply": "2025-05-31T20:52:05.569662Z",
     "shell.execute_reply.started": "2025-05-31T20:52:05.552115Z"
    },
    "trusted": true
   },
   "outputs": [],
   "source": [
    "#FWD PROP\n",
    "def init_params():\n",
    "    W1 = np.random.rand(48, 784) - 0.5 \n",
    "    b1 = np.random.rand(48, 1) - 0.5\n",
    "    W2 = np.random.rand(48, 48) - 0.5  \n",
    "    b2 = np.random.rand(48, 1) - 0.5\n",
    "    W3 = np.random.rand(10, 48) - 0.5  \n",
    "    b3 = np.random.rand(10, 1) - 0.5\n",
    "    return W1, b1, W2, b2, W3, b3\n",
    "\n",
    "def ReLU(Z):\n",
    "    return np.maximum(Z, 0)\n",
    "\n",
    "def softmax(Z):\n",
    "    return np.exp(Z) / sum(np.exp(Z))\n",
    "    \n",
    "def fwd_prop(W1, b1, W2, b2, W3, b3, X):\n",
    "    Z1 = W1.dot(X) + b1\n",
    "    A1 = ReLU(Z1)\n",
    "    Z2 = W2.dot(A1) + b2\n",
    "    A2 = ReLU(Z2)\n",
    "    Z3 = W3.dot(A2) + b3\n",
    "    A3 = softmax(Z3)\n",
    "    return Z1, A1, Z2, A2, Z3, A3\n",
    "\n",
    "#BCWD PROP\n",
    "def one_hot(Y):\n",
    "    one_hot_Y = np.zeros((Y.size, Y.max() + 1))\n",
    "    one_hot_Y[np.arange(Y.size), Y] = 1\n",
    "    one_hot_Y = one_hot_Y.T\n",
    "    return one_hot_Y\n",
    "\n",
    "def deriv_ReLU(Z):\n",
    "    return Z>0\n",
    "    \n",
    "def back_prop(Z1, A1, Z2, A2, Z3, A3, W2, W3, X, Y):\n",
    "    m = Y.size\n",
    "    ohY = one_hot(Y)\n",
    "    dZ3 = A3 - ohY\n",
    "    dW3 = (1/m) * dZ3.dot(A2.T)\n",
    "    db3 = (1/m) * np.sum(dZ3)\n",
    "\n",
    "    dZ2 = W3.T.dot(dZ3) * deriv_ReLU(Z2)\n",
    "    dW2 = (1/m) * dZ2.dot(A1.T)\n",
    "    db2 = (1/m) * np.sum(dZ2)\n",
    "    \n",
    "    dZ1 = W2.T.dot(dZ2) * deriv_ReLU(Z1)\n",
    "    dW1 = (1/m) * dZ1.dot(X.T)\n",
    "    db1 = (1/m) * np.sum(dZ1)\n",
    "\n",
    "    return dW1, db1, dW2, db2, dW3, db3\n",
    "\n",
    "def update_params(W1, b1, W2, b2, W3, b3, dW1, db1, dW2, db2, dW3, db3, alpha):\n",
    "    W1 = W1 - (alpha*dW1)\n",
    "    b1 = b1 - (alpha*db1)\n",
    "    W2 = W2 - (alpha*dW2)\n",
    "    b2 = b2 - (alpha*db2)\n",
    "    W3 = W3 - (alpha*dW3)\n",
    "    b3 = b3 - (alpha*db3)\n",
    "    return W1, b1, W2, b2, W3, b3"
   ]
  },
  {
   "cell_type": "code",
   "execution_count": 7,
   "metadata": {
    "execution": {
     "iopub.execute_input": "2025-05-31T20:52:05.572331Z",
     "iopub.status.busy": "2025-05-31T20:52:05.572009Z",
     "iopub.status.idle": "2025-05-31T20:52:05.594664Z",
     "shell.execute_reply": "2025-05-31T20:52:05.593422Z",
     "shell.execute_reply.started": "2025-05-31T20:52:05.572310Z"
    },
    "trusted": true
   },
   "outputs": [],
   "source": [
    "'''\n",
    "def loss(X, Y, A2):\n",
    "    m = Y.size\n",
    "    log.likelihood = - np.log(A2[Y, range(m)])\n",
    "    loss = (1/m) * np.sum(log.likelihood)\n",
    "    return loss\n",
    "'''\n",
    "def get_predictions(A3):\n",
    "    return np.argmax(A3, 0)\n",
    "\n",
    "def get_accuracy(predictions, Y):\n",
    "    print(predictions, Y)\n",
    "    return np.sum(predictions == Y) / Y.size\n",
    "\n",
    "def grad_desc(X, Y, iterations, alpha):\n",
    "    W1, b1, W2, b2, W3, b3 = init_params()\n",
    "    for i in range(iterations + 10):\n",
    "        Z1, A1, Z2, A2, Z3, A3 = fwd_prop(W1, b1, W2, b2, W3, b3, X)\n",
    "        dW1, db1, dW2, db2, dW3, db3 = back_prop(Z1, A1, Z2, A2, Z3, A3, W2, W3, X, Y)\n",
    "        W1, b1, W2, b2, W3, b3= update_params(W1, b1, W2, b2, W3, b3, dW1, db1, dW2, db2, dW3, db3, alpha)\n",
    "        if i % 10 == 0:\n",
    "            print(\"iteration: \", i)\n",
    "            print(\"accuracy: \", get_accuracy(get_predictions(A3), Y))\n",
    "    for iteration in range(iteration): # Exponential decay\n",
    "        while(alpha > 0.001):\n",
    "            alpha *= 0.95  \n",
    "    return W1, b2, W2, b2, W3, b3"
   ]
  },
  {
   "cell_type": "code",
   "execution_count": 8,
   "metadata": {
    "execution": {
     "iopub.execute_input": "2025-05-31T20:52:05.595936Z",
     "iopub.status.busy": "2025-05-31T20:52:05.595592Z",
     "iopub.status.idle": "2025-05-31T20:52:05.705674Z",
     "shell.execute_reply": "2025-05-31T20:52:05.704237Z",
     "shell.execute_reply.started": "2025-05-31T20:52:05.595906Z"
    },
    "trusted": true
   },
   "outputs": [
    {
     "name": "stdout",
     "output_type": "stream",
     "text": [
      "iteration:  0\n",
      "[8 8 1 ... 7 8 8] [2 1 6 ... 4 0 0]\n",
      "accuracy:  0.09475609756097561\n",
      "iteration:  10\n",
      "[5 1 6 ... 0 7 0] [2 1 6 ... 4 0 0]\n",
      "accuracy:  0.4433170731707317\n",
      "iteration:  20\n",
      "[5 1 6 ... 0 7 0] [2 1 6 ... 4 0 0]\n",
      "accuracy:  0.5721951219512195\n",
      "iteration:  30\n",
      "[2 1 6 ... 9 0 0] [2 1 6 ... 4 0 0]\n",
      "accuracy:  0.6526829268292683\n",
      "iteration:  40\n",
      "[2 1 6 ... 9 0 0] [2 1 6 ... 4 0 0]\n",
      "accuracy:  0.6994390243902439\n",
      "iteration:  50\n",
      "[2 1 6 ... 9 0 0] [2 1 6 ... 4 0 0]\n",
      "accuracy:  0.731780487804878\n",
      "iteration:  60\n",
      "[2 1 6 ... 9 0 0] [2 1 6 ... 4 0 0]\n",
      "accuracy:  0.7549756097560976\n",
      "iteration:  70\n",
      "[2 1 6 ... 4 0 0] [2 1 6 ... 4 0 0]\n",
      "accuracy:  0.773390243902439\n",
      "iteration:  80\n",
      "[2 1 6 ... 4 0 0] [2 1 6 ... 4 0 0]\n",
      "accuracy:  0.7875609756097561\n",
      "iteration:  90\n",
      "[2 1 6 ... 4 0 0] [2 1 6 ... 4 0 0]\n",
      "accuracy:  0.7993414634146342\n",
      "iteration:  100\n",
      "[2 1 6 ... 4 0 0] [2 1 6 ... 4 0 0]\n",
      "accuracy:  0.8097560975609757\n",
      "iteration:  110\n",
      "[2 1 6 ... 4 0 0] [2 1 6 ... 4 0 0]\n",
      "accuracy:  0.8179268292682926\n",
      "iteration:  120\n",
      "[2 1 6 ... 4 0 0] [2 1 6 ... 4 0 0]\n",
      "accuracy:  0.8252195121951219\n",
      "iteration:  130\n",
      "[2 1 6 ... 4 0 0] [2 1 6 ... 4 0 0]\n",
      "accuracy:  0.8314390243902439\n",
      "iteration:  140\n",
      "[2 1 6 ... 4 0 0] [2 1 6 ... 4 0 0]\n",
      "accuracy:  0.8365853658536585\n",
      "iteration:  150\n",
      "[2 1 6 ... 4 0 0] [2 1 6 ... 4 0 0]\n",
      "accuracy:  0.8319024390243902\n",
      "iteration:  160\n",
      "[2 1 6 ... 4 0 0] [2 1 6 ... 4 0 0]\n",
      "accuracy:  0.8340243902439024\n",
      "iteration:  170\n",
      "[2 1 6 ... 4 0 0] [2 1 6 ... 4 0 0]\n",
      "accuracy:  0.8508780487804878\n",
      "iteration:  180\n",
      "[2 1 6 ... 4 0 0] [2 1 6 ... 4 0 0]\n",
      "accuracy:  0.8561707317073171\n",
      "iteration:  190\n",
      "[2 1 6 ... 4 0 0] [2 1 6 ... 4 0 0]\n",
      "accuracy:  0.8602926829268293\n",
      "iteration:  200\n",
      "[2 1 6 ... 4 0 0] [2 1 6 ... 4 0 0]\n",
      "accuracy:  0.8633658536585366\n",
      "iteration:  210\n",
      "[2 1 6 ... 4 0 0] [2 1 6 ... 4 0 0]\n",
      "accuracy:  0.8661951219512195\n",
      "iteration:  220\n",
      "[2 1 6 ... 4 0 0] [2 1 6 ... 4 0 0]\n",
      "accuracy:  0.8689268292682927\n",
      "iteration:  230\n",
      "[2 1 6 ... 4 0 0] [2 1 6 ... 4 0 0]\n",
      "accuracy:  0.8717317073170732\n",
      "iteration:  240\n",
      "[2 1 6 ... 4 0 0] [2 1 6 ... 4 0 0]\n",
      "accuracy:  0.8734146341463415\n",
      "iteration:  250\n",
      "[2 1 6 ... 4 0 0] [2 1 6 ... 4 0 0]\n",
      "accuracy:  0.8753658536585366\n",
      "iteration:  260\n",
      "[2 1 6 ... 4 0 0] [2 1 6 ... 4 0 0]\n",
      "accuracy:  0.8758780487804878\n",
      "iteration:  270\n",
      "[2 1 6 ... 4 0 0] [2 1 6 ... 4 0 0]\n",
      "accuracy:  0.876780487804878\n",
      "iteration:  280\n",
      "[2 1 6 ... 4 0 0] [2 1 6 ... 4 0 0]\n",
      "accuracy:  0.8798048780487805\n",
      "iteration:  290\n",
      "[2 1 6 ... 4 0 0] [2 1 6 ... 4 0 0]\n",
      "accuracy:  0.8830731707317073\n",
      "iteration:  300\n",
      "[2 1 6 ... 4 0 0] [2 1 6 ... 4 0 0]\n",
      "accuracy:  0.8858048780487805\n",
      "iteration:  310\n",
      "[2 1 6 ... 4 0 0] [2 1 6 ... 4 0 0]\n",
      "accuracy:  0.8874878048780488\n",
      "iteration:  320\n",
      "[2 1 6 ... 4 0 0] [2 1 6 ... 4 0 0]\n",
      "accuracy:  0.8889024390243903\n",
      "iteration:  330\n",
      "[2 1 6 ... 4 0 0] [2 1 6 ... 4 0 0]\n",
      "accuracy:  0.89\n",
      "iteration:  340\n",
      "[2 1 6 ... 4 0 0] [2 1 6 ... 4 0 0]\n",
      "accuracy:  0.8912439024390244\n",
      "iteration:  350\n",
      "[2 1 6 ... 4 0 0] [2 1 6 ... 4 0 0]\n",
      "accuracy:  0.892609756097561\n",
      "iteration:  360\n",
      "[2 1 6 ... 4 0 0] [2 1 6 ... 4 0 0]\n",
      "accuracy:  0.8938536585365854\n",
      "iteration:  370\n",
      "[2 1 6 ... 4 0 0] [2 1 6 ... 4 0 0]\n",
      "accuracy:  0.8950487804878049\n",
      "iteration:  380\n",
      "[2 1 6 ... 4 0 0] [2 1 6 ... 4 0 0]\n",
      "accuracy:  0.8963658536585366\n",
      "iteration:  390\n",
      "[2 1 6 ... 4 0 0] [2 1 6 ... 4 0 0]\n",
      "accuracy:  0.8974634146341464\n",
      "iteration:  400\n",
      "[2 1 6 ... 4 0 0] [2 1 6 ... 4 0 0]\n",
      "accuracy:  0.8985365853658537\n",
      "iteration:  410\n",
      "[2 1 6 ... 4 0 0] [2 1 6 ... 4 0 0]\n",
      "accuracy:  0.8997073170731708\n",
      "iteration:  420\n",
      "[2 1 6 ... 4 0 0] [2 1 6 ... 4 0 0]\n",
      "accuracy:  0.9004390243902439\n",
      "iteration:  430\n",
      "[2 1 6 ... 4 0 0] [2 1 6 ... 4 0 0]\n",
      "accuracy:  0.9009756097560976\n",
      "iteration:  440\n",
      "[2 1 6 ... 4 0 0] [2 1 6 ... 4 0 0]\n",
      "accuracy:  0.9017317073170732\n",
      "iteration:  450\n",
      "[2 1 6 ... 4 0 0] [2 1 6 ... 4 0 0]\n",
      "accuracy:  0.9027560975609756\n",
      "iteration:  460\n",
      "[2 1 6 ... 4 0 0] [2 1 6 ... 4 0 0]\n",
      "accuracy:  0.9037560975609756\n",
      "iteration:  470\n",
      "[2 1 6 ... 4 0 0] [2 1 6 ... 4 0 0]\n",
      "accuracy:  0.9046829268292683\n"
     ]
    },
    {
     "ename": "KeyboardInterrupt",
     "evalue": "",
     "output_type": "error",
     "traceback": [
      "\u001b[1;31m---------------------------------------------------------------------------\u001b[0m",
      "\u001b[1;31mKeyboardInterrupt\u001b[0m                         Traceback (most recent call last)",
      "Cell \u001b[1;32mIn[8], line 1\u001b[0m\n\u001b[1;32m----> 1\u001b[0m W1, b1, W2, b2, W3, b3 \u001b[38;5;241m=\u001b[39m \u001b[43mgrad_desc\u001b[49m\u001b[43m(\u001b[49m\u001b[43mX_train\u001b[49m\u001b[43m,\u001b[49m\u001b[43m \u001b[49m\u001b[43mY_train\u001b[49m\u001b[43m,\u001b[49m\u001b[43m \u001b[49m\u001b[38;5;241;43m1000\u001b[39;49m\u001b[43m,\u001b[49m\u001b[43m \u001b[49m\u001b[38;5;241;43m0.1\u001b[39;49m\u001b[43m)\u001b[49m\n",
      "Cell \u001b[1;32mIn[7], line 19\u001b[0m, in \u001b[0;36mgrad_desc\u001b[1;34m(X, Y, iterations, alpha)\u001b[0m\n\u001b[0;32m     17\u001b[0m \u001b[38;5;28;01mfor\u001b[39;00m i \u001b[38;5;129;01min\u001b[39;00m \u001b[38;5;28mrange\u001b[39m(iterations \u001b[38;5;241m+\u001b[39m \u001b[38;5;241m10\u001b[39m):\n\u001b[0;32m     18\u001b[0m     Z1, A1, Z2, A2, Z3, A3 \u001b[38;5;241m=\u001b[39m fwd_prop(W1, b1, W2, b2, W3, b3, X)\n\u001b[1;32m---> 19\u001b[0m     dW1, db1, dW2, db2, dW3, db3 \u001b[38;5;241m=\u001b[39m \u001b[43mback_prop\u001b[49m\u001b[43m(\u001b[49m\u001b[43mZ1\u001b[49m\u001b[43m,\u001b[49m\u001b[43m \u001b[49m\u001b[43mA1\u001b[49m\u001b[43m,\u001b[49m\u001b[43m \u001b[49m\u001b[43mZ2\u001b[49m\u001b[43m,\u001b[49m\u001b[43m \u001b[49m\u001b[43mA2\u001b[49m\u001b[43m,\u001b[49m\u001b[43m \u001b[49m\u001b[43mZ3\u001b[49m\u001b[43m,\u001b[49m\u001b[43m \u001b[49m\u001b[43mA3\u001b[49m\u001b[43m,\u001b[49m\u001b[43m \u001b[49m\u001b[43mW2\u001b[49m\u001b[43m,\u001b[49m\u001b[43m \u001b[49m\u001b[43mW3\u001b[49m\u001b[43m,\u001b[49m\u001b[43m \u001b[49m\u001b[43mX\u001b[49m\u001b[43m,\u001b[49m\u001b[43m \u001b[49m\u001b[43mY\u001b[49m\u001b[43m)\u001b[49m\n\u001b[0;32m     20\u001b[0m     W1, b1, W2, b2, W3, b3\u001b[38;5;241m=\u001b[39m update_params(W1, b1, W2, b2, W3, b3, dW1, db1, dW2, db2, dW3, db3, alpha)\n\u001b[0;32m     21\u001b[0m     \u001b[38;5;28;01mif\u001b[39;00m i \u001b[38;5;241m%\u001b[39m \u001b[38;5;241m10\u001b[39m \u001b[38;5;241m==\u001b[39m \u001b[38;5;241m0\u001b[39m:\n",
      "Cell \u001b[1;32mIn[6], line 48\u001b[0m, in \u001b[0;36mback_prop\u001b[1;34m(Z1, A1, Z2, A2, Z3, A3, W2, W3, X, Y)\u001b[0m\n\u001b[0;32m     45\u001b[0m db2 \u001b[38;5;241m=\u001b[39m (\u001b[38;5;241m1\u001b[39m\u001b[38;5;241m/\u001b[39mm) \u001b[38;5;241m*\u001b[39m np\u001b[38;5;241m.\u001b[39msum(dZ2)\n\u001b[0;32m     47\u001b[0m dZ1 \u001b[38;5;241m=\u001b[39m W2\u001b[38;5;241m.\u001b[39mT\u001b[38;5;241m.\u001b[39mdot(dZ2) \u001b[38;5;241m*\u001b[39m deriv_ReLU(Z1)\n\u001b[1;32m---> 48\u001b[0m dW1 \u001b[38;5;241m=\u001b[39m (\u001b[38;5;241m1\u001b[39m\u001b[38;5;241m/\u001b[39mm) \u001b[38;5;241m*\u001b[39m dZ1\u001b[38;5;241m.\u001b[39mdot(X\u001b[38;5;241m.\u001b[39mT)\n\u001b[0;32m     49\u001b[0m db1 \u001b[38;5;241m=\u001b[39m (\u001b[38;5;241m1\u001b[39m\u001b[38;5;241m/\u001b[39mm) \u001b[38;5;241m*\u001b[39m np\u001b[38;5;241m.\u001b[39msum(dZ1)\n\u001b[0;32m     51\u001b[0m \u001b[38;5;28;01mreturn\u001b[39;00m dW1, db1, dW2, db2, dW3, db3\n",
      "\u001b[1;31mKeyboardInterrupt\u001b[0m: "
     ]
    }
   ],
   "source": [
    "W1, b1, W2, b2, W3, b3 = grad_desc(X_train, Y_train, 1000, 0.1)"
   ]
  }
 ],
 "metadata": {
  "kaggle": {
   "accelerator": "none",
   "dataSources": [
    {
     "databundleVersionId": 861823,
     "sourceId": 3004,
     "sourceType": "competition"
    },
    {
     "datasetId": 7562103,
     "sourceId": 12019593,
     "sourceType": "datasetVersion"
    },
    {
     "datasetId": 7562447,
     "sourceId": 12020138,
     "sourceType": "datasetVersion"
    }
   ],
   "dockerImageVersionId": 31040,
   "isGpuEnabled": false,
   "isInternetEnabled": false,
   "language": "python",
   "sourceType": "notebook"
  },
  "kernelspec": {
   "display_name": "Python 3",
   "language": "python",
   "name": "python3"
  },
  "language_info": {
   "codemirror_mode": {
    "name": "ipython",
    "version": 3
   },
   "file_extension": ".py",
   "mimetype": "text/x-python",
   "name": "python",
   "nbconvert_exporter": "python",
   "pygments_lexer": "ipython3",
   "version": "3.11.5"
  }
 },
 "nbformat": 4,
 "nbformat_minor": 4
}
